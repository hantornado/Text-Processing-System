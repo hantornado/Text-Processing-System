{
  "nbformat": 4,
  "nbformat_minor": 0,
  "metadata": {
    "colab": {
      "provenance": []
    },
    "kernelspec": {
      "name": "python3",
      "display_name": "Python 3"
    },
    "language_info": {
      "name": "python"
    }
  },
  "cells": [
    {
      "cell_type": "markdown",
      "source": [
        "# Part A"
      ],
      "metadata": {
        "id": "5WHFil0-OQag"
      }
    },
    {
      "cell_type": "markdown",
      "source": [
        "## 1.\tPOS tagging"
      ],
      "metadata": {
        "id": "EOVo3TnvPF_x"
      }
    },
    {
      "cell_type": "code",
      "execution_count": null,
      "metadata": {
        "colab": {
          "base_uri": "https://localhost:8080/"
        },
        "id": "1hwN8Y9RgFzi",
        "outputId": "7913749b-b175-4c34-c2ed-328e23e9011b"
      },
      "outputs": [
        {
          "output_type": "stream",
          "name": "stderr",
          "text": [
            "[nltk_data] Downloading package averaged_perceptron_tagger to\n",
            "[nltk_data]     /root/nltk_data...\n",
            "[nltk_data]   Unzipping taggers/averaged_perceptron_tagger.zip.\n",
            "[nltk_data] Downloading package punkt to /root/nltk_data...\n",
            "[nltk_data]   Package punkt is already up-to-date!\n"
          ]
        },
        {
          "output_type": "stream",
          "name": "stdout",
          "text": [
            "[('The', 'DT'), ('big', 'JJ'), ('black', 'JJ'), ('dog', 'NN'), ('barked', 'VBD'), ('at', 'IN'), ('the', 'DT'), ('white', 'JJ'), ('cat', 'NN'), ('and', 'CC'), ('chased', 'VBD'), ('away', 'RB'), ('.', '.')]\n"
          ]
        }
      ],
      "source": [
        "import nltk\n",
        "nltk.download('averaged_perceptron_tagger')\n",
        "nltk.download('punkt')\n",
        "\n",
        "sentence = \"The big black dog barked at the white cat and chased away.\"\n",
        "tokens = nltk.word_tokenize(sentence)\n",
        "nltk_pos_tags = nltk.pos_tag(tokens)\n",
        "print(nltk_pos_tags)\n"
      ]
    },
    {
      "cell_type": "markdown",
      "source": [
        "## 2.\tDifferences of the POS taggers"
      ],
      "metadata": {
        "id": "AO0o8hY-PMmE"
      }
    },
    {
      "cell_type": "code",
      "source": [
        "from textblob import TextBlob\n",
        "\n",
        "sentence = \"The big black dog barked at the white cat and chased away.\"\n",
        "blob = TextBlob(sentence)\n",
        "textblob_pos_tags = blob.tags\n",
        "print(textblob_pos_tags)\n"
      ],
      "metadata": {
        "colab": {
          "base_uri": "https://localhost:8080/"
        },
        "id": "mNB0kgjlrvVj",
        "outputId": "22993677-2a07-48f7-8fb2-df89dd4ab029"
      },
      "execution_count": null,
      "outputs": [
        {
          "output_type": "stream",
          "name": "stdout",
          "text": [
            "[('The', 'DT'), ('big', 'JJ'), ('black', 'JJ'), ('dog', 'NN'), ('barked', 'VBD'), ('at', 'IN'), ('the', 'DT'), ('white', 'JJ'), ('cat', 'NN'), ('and', 'CC'), ('chased', 'VBD'), ('away', 'RB')]\n"
          ]
        }
      ]
    },
    {
      "cell_type": "markdown",
      "source": [
        "## 3.\tParse trees"
      ],
      "metadata": {
        "id": "PNXTP2vhPOOP"
      }
    },
    {
      "cell_type": "code",
      "source": [
        "from nltk.tag import RegexpTagger\n",
        "\n",
        "sentence = \"The big black dog barked at the white cat and chased away.\"\n",
        "patterns = [\n",
        "    (r'.*ing$', 'VBG'),\n",
        "    (r'.*ed$', 'VBD'),\n",
        "    (r'.*s$', 'NNS'),\n",
        "    (r'^-?[0-9]+(.[0-9]+)?$', 'CD'),\n",
        "    (r'.*', 'NN')\n",
        "]\n",
        "regexp_tagger = RegexpTagger(patterns)\n",
        "tokens = nltk.word_tokenize(sentence)\n",
        "regexp_pos_tags = regexp_tagger.tag(tokens)\n",
        "print(regexp_pos_tags)\n"
      ],
      "metadata": {
        "colab": {
          "base_uri": "https://localhost:8080/"
        },
        "id": "3FV5DPpzr0nr",
        "outputId": "14b1f43f-0e02-4212-e1d5-89cbab66e73f"
      },
      "execution_count": null,
      "outputs": [
        {
          "output_type": "stream",
          "name": "stdout",
          "text": [
            "[('The', 'NN'), ('big', 'NN'), ('black', 'NN'), ('dog', 'NN'), ('barked', 'VBD'), ('at', 'NN'), ('the', 'NN'), ('white', 'NN'), ('cat', 'NN'), ('and', 'NN'), ('chased', 'VBD'), ('away', 'NN'), ('.', 'NN')]\n"
          ]
        }
      ]
    },
    {
      "cell_type": "code",
      "source": [
        "import nltk\n",
        "\n",
        "# Make sure to download the required NLTK packages\n",
        "nltk.download('punkt')\n",
        "\n",
        "# Define the grammar for parsing the sentence\n",
        "grammar = nltk.CFG.fromstring(\"\"\"\n",
        "    S -> NP VP\n",
        "    NP -> Det AdjP N | Det N\n",
        "    AdjP -> Adj AdjP | Adj\n",
        "    VP -> V NP PP | V PP | V NP | VP Conj VP | V Adv | V\n",
        "    PP -> P NP\n",
        "    Det -> 'The' | 'the'\n",
        "    N -> 'dog' | 'cat'\n",
        "    Adj -> 'big' | 'black' | 'white'\n",
        "    V -> 'barked' | 'chased'\n",
        "    P -> 'at'\n",
        "    Conj -> 'and'\n",
        "    Adv -> 'away'\n",
        "\"\"\")\n",
        "\n",
        "# Sentence to be parsed\n",
        "sentence = \"The big black dog barked at the white cat and chased away\"\n",
        "\n",
        "# Tokenize the sentence\n",
        "tokens = nltk.word_tokenize(sentence)\n",
        "\n",
        "# Create a parser with the defined grammar\n",
        "parser = nltk.ChartParser(grammar)\n",
        "\n",
        "# Generate parse trees\n",
        "trees = list(parser.parse(tokens))\n",
        "\n",
        "# Print parse trees\n",
        "if trees:\n",
        "    for tree in trees:\n",
        "        tree.pretty_print()\n",
        "else:\n",
        "    print(\"No parse trees were generated. Please check the grammar rules and sentence structure.\")\n"
      ],
      "metadata": {
        "colab": {
          "base_uri": "https://localhost:8080/"
        },
        "id": "l1Jpq2C1qVVi",
        "outputId": "452688be-392e-4e35-cac2-c467f9f90a8e"
      },
      "execution_count": null,
      "outputs": [
        {
          "output_type": "stream",
          "name": "stdout",
          "text": [
            "                               S                                        \n",
            "      _________________________|____________                             \n",
            "     |                                      VP                          \n",
            "     |                              ________|____________________        \n",
            "     |                             VP                |           |      \n",
            "     |                    _________|___              |           |       \n",
            "     NP                  |             PP            |           |      \n",
            "  ___|______________     |      _______|____         |           |       \n",
            " |      AdjP        |    |     |            NP       |           |      \n",
            " |    ___|_____     |    |     |    ________|____    |           |       \n",
            " |   |        AdjP  |    |     |   |       AdjP  |   |           VP     \n",
            " |   |         |    |    |     |   |        |    |   |      _____|___    \n",
            "Det Adj       Adj   N    V     P  Det      Adj   N  Conj   V        Adv \n",
            " |   |         |    |    |     |   |        |    |   |     |         |   \n",
            "The big      black dog barked  at the     white cat and  chased     away\n",
            "\n"
          ]
        },
        {
          "output_type": "stream",
          "name": "stderr",
          "text": [
            "[nltk_data] Downloading package punkt to /root/nltk_data...\n",
            "[nltk_data]   Package punkt is already up-to-date!\n"
          ]
        }
      ]
    },
    {
      "cell_type": "markdown",
      "source": [
        "# Part B"
      ],
      "metadata": {
        "id": "-C3TZIj-Owa6"
      }
    },
    {
      "cell_type": "markdown",
      "source": [
        "\n",
        "\n",
        "## 1.\tSupervised Text Classification models\n",
        "\n",
        "\n"
      ],
      "metadata": {
        "id": "7PlfEy51IL1g"
      }
    },
    {
      "cell_type": "code",
      "source": [
        "import pandas as pd\n",
        "from sklearn.model_selection import train_test_split\n",
        "from sklearn.feature_extraction.text import TfidfVectorizer\n",
        "from sklearn.svm import SVC\n",
        "from sklearn.metrics import classification_report, accuracy_score, precision_recall_curve\n",
        "from sklearn.pipeline import Pipeline\n",
        "from google.colab import drive"
      ],
      "metadata": {
        "id": "WYRLQn7mINjX"
      },
      "execution_count": null,
      "outputs": []
    },
    {
      "cell_type": "code",
      "source": [
        "# Mount & Load dataset\n",
        "drive.mount('/content/drive')\n",
        "data = pd.read_csv('/content/drive/My Drive/singapore_airlines_reviews.csv')\n",
        "\n",
        "print(data.shape)"
      ],
      "metadata": {
        "colab": {
          "base_uri": "https://localhost:8080/"
        },
        "id": "Mt6etaAz7ptL",
        "outputId": "9f805126-18f5-4a2b-e680-62b59e4abeeb"
      },
      "execution_count": null,
      "outputs": [
        {
          "output_type": "stream",
          "name": "stdout",
          "text": [
            "Drive already mounted at /content/drive; to attempt to forcibly remount, call drive.mount(\"/content/drive\", force_remount=True).\n",
            "(10000, 7)\n"
          ]
        }
      ]
    },
    {
      "cell_type": "code",
      "source": [
        "# map the ratings to binary labels,\n",
        "# ratings 4 and 5 could be considered positive (1) and the rest negative (0).\n",
        "data['label'] = (data['rating'] > 3).astype(int)\n",
        "\n",
        "# Selecting features and labels\n",
        "X = data['text']  # Text column for features\n",
        "y = data['label']  # New binary 'label' column for labels\n",
        "\n",
        "# Split data into training and test sets\n",
        "X_train, X_test, y_train, y_test = train_test_split(X, y, test_size=0.2, random_state=42)"
      ],
      "metadata": {
        "id": "kw5uh1TF7sOb"
      },
      "execution_count": null,
      "outputs": []
    },
    {
      "cell_type": "code",
      "source": [
        "# Create a pipeline with TfidfVectorizer and SVC\n",
        "pipeline = Pipeline([\n",
        "    ('tfidf', TfidfVectorizer(stop_words='english')),\n",
        "    ('clf', SVC(kernel='linear'))\n",
        "])"
      ],
      "metadata": {
        "id": "c5wk-El58eDS"
      },
      "execution_count": null,
      "outputs": []
    },
    {
      "cell_type": "code",
      "source": [
        "# Train the classifier on the training data\n",
        "pipeline.fit(X_train, y_train)\n",
        "\n",
        "# Predict labels for the test data\n",
        "y_pred = pipeline.predict(X_test)"
      ],
      "metadata": {
        "id": "Gt3rD6ig8w5e"
      },
      "execution_count": null,
      "outputs": []
    },
    {
      "cell_type": "code",
      "source": [
        "# Evaluate the classifier\n",
        "print(classification_report(y_test, y_pred))\n",
        "print(\"Accuracy:\", accuracy_score(y_test, y_pred))"
      ],
      "metadata": {
        "colab": {
          "base_uri": "https://localhost:8080/"
        },
        "id": "JINKEedp8yXV",
        "outputId": "c3b6d052-8437-46cf-a1f2-2a6f2e0a1d51"
      },
      "execution_count": null,
      "outputs": [
        {
          "output_type": "stream",
          "name": "stdout",
          "text": [
            "              precision    recall  f1-score   support\n",
            "\n",
            "           0       0.83      0.77      0.80       527\n",
            "           1       0.92      0.94      0.93      1473\n",
            "\n",
            "    accuracy                           0.90      2000\n",
            "   macro avg       0.88      0.86      0.87      2000\n",
            "weighted avg       0.90      0.90      0.90      2000\n",
            "\n",
            "Accuracy: 0.8985\n"
          ]
        }
      ]
    },
    {
      "cell_type": "code",
      "source": [
        "# Plot Confusion Matrix\n",
        "plt.figure(figsize=(8, 6))\n",
        "cm = confusion_matrix(y_test, y_pred)\n",
        "sns.heatmap(cm, annot=True, fmt='d', cmap='Blues')\n",
        "plt.title('Confusion Matrix')\n",
        "plt.ylabel('Actual Label')\n",
        "plt.xlabel('Predicted Label')\n",
        "plt.show()"
      ],
      "metadata": {
        "colab": {
          "base_uri": "https://localhost:8080/",
          "height": 564
        },
        "id": "m56zBkYSWWQ6",
        "outputId": "b3a2c266-673e-46a3-cd61-135c9a989b6b"
      },
      "execution_count": null,
      "outputs": [
        {
          "output_type": "display_data",
          "data": {
            "text/plain": [
              "<Figure size 800x600 with 2 Axes>"
            ],
            "image/png": "[encoded data removed]"
          },
          "metadata": {}
        }
      ]
    },
    {
      "cell_type": "code",
      "source": [
        "# Plotting Precision-Recall Curve\n",
        "precision, recall, _ = precision_recall_curve(y_test, pipeline.decision_function(X_test))\n",
        "plt.figure(figsize=(8, 6))\n",
        "plt.plot(recall, precision, color='blue', lw=2, label='Precision-Recall curve')\n",
        "plt.xlabel('Recall')\n",
        "plt.ylabel('Precision')\n",
        "plt.title('Precision-Recall Curve')\n",
        "plt.legend(loc=\"upper right\")\n",
        "plt.show()\n"
      ],
      "metadata": {
        "colab": {
          "base_uri": "https://localhost:8080/",
          "height": 549
        },
        "id": "vK0FUVZ_Q1K-",
        "outputId": "7e072e81-90bd-4c38-a399-28401c5e42c7"
      },
      "execution_count": null,
      "outputs": [
        {
          "output_type": "display_data",
          "data": {
            "text/plain": [
              "<Figure size 800x600 with 1 Axes>"
            ],
            "image/png": "[encoded data removed]"
          },
          "metadata": {}
        }
      ]
    },
    {
      "cell_type": "markdown",
      "source": [
        "## **Random Forest**"
      ],
      "metadata": {
        "id": "o2sOj0JpN0u8"
      }
    },
    {
      "cell_type": "code",
      "source": [
        "import pandas as pd\n",
        "from sklearn.model_selection import train_test_split, RandomizedSearchCV\n",
        "from sklearn.feature_extraction.text import TfidfVectorizer\n",
        "from sklearn.svm import SVC\n",
        "from sklearn.pipeline import Pipeline\n",
        "from sklearn.metrics import classification_report, accuracy_score, confusion_matrix, precision_recall_curve\n",
        "import matplotlib.pyplot as plt\n",
        "import seaborn as sns\n",
        "from scipy.stats import loguniform\n",
        "\n",
        "# Load dataset\n",
        "data = pd.read_csv(r\"C:\\Users\\hanto\\Downloads\\singapore_airlines_reviews.csv\")\n",
        "\n",
        "print(data.shape)\n",
        "\n",
        "# Map the ratings to binary labels,\n",
        "# Ratings 4 and 5 could be considered positive (1) and the rest negative (0)\n",
        "data['label'] = (data['rating'] > 3).astype(int)\n",
        "\n",
        "# Selecting features and labels\n",
        "X = data['text']  # Text column for features\n",
        "y = data['label']  # New binary 'label' column for labels\n",
        "\n",
        "# Split data into training and test sets\n",
        "X_train, X_test, y_train, y_test = train_test_split(X, y, test_size=0.2, random_state=42)\n",
        "\n",
        "# Create a pipeline with TfidfVectorizer and SVC\n",
        "pipeline = Pipeline([\n",
        "    ('tfidf', TfidfVectorizer(stop_words='english')),\n",
        "    ('clf', SVC(probability=True))  # Set probability to True to enable predict_proba\n",
        "])\n",
        "\n",
        "# Define grid of hyperparameters for tuning\n",
        "param_distributions = {\n",
        "    'tfidf__max_features': [1000, 2000, 3000],\n",
        "    'tfidf__ngram_range': [(1, 1), (1, 2)],\n",
        "    'clf__C': loguniform(1e-3, 1e3),  # Search over a logarithmic scale\n",
        "    'clf__kernel': ['linear', 'rbf', 'poly'],  # Include different kernel types\n",
        "    'clf__gamma': ['scale', 'auto']  # Adjust gamma parameter for 'rbf' and 'poly' kernels\n",
        "}\n",
        "\n",
        "# Initialize RandomizedSearchCV\n",
        "random_search = RandomizedSearchCV(pipeline, param_distributions, n_iter=50, cv=5, n_jobs=-1)\n",
        "\n",
        "# Train the classifier on the training data\n",
        "random_search.fit(X_train, y_train)\n",
        "\n",
        "# Get the best model from random search\n",
        "best_model = random_search.best_estimator_\n",
        "\n",
        "# Predict labels and probabilities for the test data using the best model\n",
        "y_pred = best_model.predict(X_test)\n",
        "y_prob = best_model.predict_proba(X_test)\n",
        "\n",
        "# Evaluate the best model\n",
        "print(\"Best Model Parameters:\", random_search.best_params_)\n",
        "print(\"Best Model Score:\", random_search.best_score_)\n",
        "print(\"\\nTest Set Performance:\")\n",
        "print(classification_report(y_test, y_pred))\n",
        "print(\"Accuracy:\", accuracy_score(y_test, y_pred))\n",
        "\n",
        "# Plot Confusion Matrix\n",
        "plt.figure(figsize=(8, 6))\n",
        "cm = confusion_matrix(y_test, y_pred)\n",
        "sns.heatmap(cm, annot=True, fmt='d', cmap='Blues')\n",
        "plt.title('Confusion Matrix')\n",
        "plt.ylabel('Actual Label')\n",
        "plt.xlabel('Predicted Label')\n",
        "plt.show()\n",
        "\n",
        "# Plotting Precision-Recall Curve\n",
        "precision, recall, _ = precision_recall_curve(y_test, y_prob[:, 1])  # Extracting probabilities for positive class\n",
        "plt.figure(figsize=(8, 6))\n",
        "plt.plot(recall, precision, color='blue', lw=2, label='Precision-Recall curve')\n",
        "plt.xlabel('Recall')\n",
        "plt.ylabel('Precision')\n",
        "plt.title('Precision-Recall Curve')\n",
        "plt.legend(loc=\"upper right\")\n",
        "plt.show()\n"
      ],
      "metadata": {
        "id": "l4K_z30bNyVy"
      },
      "execution_count": null,
      "outputs": []
    }
  ]
}